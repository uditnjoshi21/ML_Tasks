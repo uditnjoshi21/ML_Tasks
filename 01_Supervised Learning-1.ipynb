{
 "cells": [
  {
   "cell_type": "markdown",
   "metadata": {
    "id": "ljY9Ymj3YlZZ"
   },
   "source": [
    "# Supervised Learning-1\n",
    "\n",
    "In class you had been introduced to the concepts of supervised learning. \n",
    "* Exposure to the Scikit-learn toolbox\n",
    "* Metrics to evaluate performance of ML algorithm\n",
    "* Training / Validation / Testing\n",
    "* KNN classification using Iris dataset \n",
    "\n",
    "Particularly, the module focused on a supervised machine learning - classification. Chapter 5 in the textbook provides the basics of Machine learning and example codes in python are expicitly demonstrated. \n",
    "\n",
    "\n",
    "In this lab session, we will look into\n",
    "* SciKit learning methods and useful functions\n",
    "* Install the required libraries for Project\n",
    "* Scikit-plot module\n",
    " \n",
    "\n",
    "**Dataset used:** Iris, breast cancer datasets\n",
    "\n",
    "**scikit-learn Documentation**: http://scikit-learn.org/stable/index.html"
   ]
  },
  {
   "cell_type": "markdown",
   "metadata": {
    "id": "t4M9_KIsZfWA"
   },
   "source": [
    "## Question 1: Load Data \n",
    "\n",
    "Using scikit-learn package load the toy datasets\n",
    "\n",
    "Load iris, breast cancer and wine standard datasets and assign them to iris, cancer and wine variables.\n",
    "\n",
    "Read about how to load the toy datasets using scikit-learn:  \n",
    "https://scikit-learn.org/stable/datasets/index.html"
   ]
  },
  {
   "cell_type": "code",
   "execution_count": 26,
   "metadata": {
    "colab": {
     "base_uri": "https://localhost:8080/"
    },
    "id": "ICdth4h9YiYx",
    "outputId": "3e91a58f-d600-45c9-dc87-331ac4f66b1a"
   },
   "outputs": [
    {
     "name": "stdout",
     "output_type": "stream",
     "text": [
      "[[5.1 3.5 1.4 0.2]\n",
      " [4.9 3.  1.4 0.2]\n",
      " [4.7 3.2 1.3 0.2]\n",
      " [4.6 3.1 1.5 0.2]\n",
      " [5.  3.6 1.4 0.2]\n",
      " [5.4 3.9 1.7 0.4]\n",
      " [4.6 3.4 1.4 0.3]\n",
      " [5.  3.4 1.5 0.2]\n",
      " [4.4 2.9 1.4 0.2]\n",
      " [4.9 3.1 1.5 0.1]]\n",
      "\n",
      "[0 0 0 0 0 0 0 0 0]\n",
      "\n",
      "<class 'sklearn.utils.Bunch'>\n"
     ]
    }
   ],
   "source": [
    "# import load datasets methods\n",
    "from sklearn.datasets import load_iris, load_breast_cancer, load_wine\n",
    "\n",
    "\n",
    "# assign them to iris, cancer and wine\n",
    "iris = load_iris()\n",
    "cancer = load_breast_cancer()\n",
    "wine = load_wine()\n",
    "\n",
    "print(iris.data[0:10, ])\n",
    "print(\"\")\n",
    "print (iris.target[1:10])\n",
    "print(\"\")\n",
    "print(type(iris))"
   ]
  },
  {
   "cell_type": "markdown",
   "metadata": {
    "id": "qXtHlGnzacqu"
   },
   "source": [
    "### Q1A: Understand the form of the data\n",
    "\n",
    "Read Section 5.3 and from class material, what does the following represent\n",
    "\n",
    "    i. Columns\n",
    "    ii. Rows\n",
    "    iii. Target\n",
    "\n",
    "    a. How many rows and columns are there in the iris, cancer and wine data sets?\n",
    "    b. What are the label vectors in this datasets?"
   ]
  },
  {
   "cell_type": "code",
   "execution_count": 27,
   "metadata": {
    "colab": {
     "base_uri": "https://localhost:8080/"
    },
    "id": "5CUV5Wxrat5J",
    "outputId": "6efdf5e8-5b15-42d9-9cb9-b9ce891649de"
   },
   "outputs": [
    {
     "name": "stdout",
     "output_type": "stream",
     "text": [
      "No of samples and features in iris datasets is 150 and 4 respectively\n",
      "No of samples and features in cancer datasets is 569 and 30 respectively\n",
      "No of samples and features in wine datasets is 178 and 13 respectively\n",
      "iris:  ['setosa' 'versicolor' 'virginica']\n",
      "cancer:  ['malignant' 'benign']\n",
      "wine:  ['class_0' 'class_1' 'class_2']\n"
     ]
    }
   ],
   "source": [
    "\"\"\"\n",
    "The n_samples and n_features are the size of an array. \n",
    "\n",
    "The columns represent: \n",
    "The rows represent:\n",
    "Target represent: \n",
    " \n",
    "\"\"\"\n",
    "\n",
    "print (\"No of samples and features in iris datasets is {} and {} respectively\".\n",
    "       format(iris.data.shape[0], iris.data.shape[1]))\n",
    "print (\"No of samples and features in cancer datasets is {} and {} respectively\".\n",
    "       format(cancer.data.shape[0], cancer.data.shape[1]))\n",
    "print (\"No of samples and features in wine datasets is {} and {} respectively\".\n",
    "       format(wine.data.shape[0], wine.data.shape[1]))\n",
    "\n",
    "# print out the labels for each data set\n",
    "print(\"iris: \", iris[\"target_names\"] )                            \n",
    "print(\"cancer: \", cancer[\"target_names\"] )                       \n",
    "print(\"wine: \", wine[\"target_names\"])                          "
   ]
  },
  {
   "cell_type": "markdown",
   "metadata": {
    "id": "DOvnu_upa73D"
   },
   "source": [
    "### Q1B: Access aspects of the data \n",
    "\n",
    "http://scikit-learn.org/stable/datasets/index.html\n",
    "\n",
    "\n",
    "**Iris**  \n",
    "How do we access additional information other than the data and target class for the iris dataset?"
   ]
  },
  {
   "cell_type": "code",
   "execution_count": 28,
   "metadata": {
    "colab": {
     "base_uri": "https://localhost:8080/"
    },
    "id": "GzPVvN0Na45y",
    "outputId": "c5652c1c-bac1-4532-d1e5-f21117c5562f"
   },
   "outputs": [
    {
     "name": "stdout",
     "output_type": "stream",
     "text": [
      "[[5.1 3.5 1.4 0.2]\n",
      " [4.9 3.  1.4 0.2]\n",
      " [4.7 3.2 1.3 0.2]\n",
      " [4.6 3.1 1.5 0.2]\n",
      " [5.  3.6 1.4 0.2]]\n",
      "[0 0 0 0 0 0 0 0 0 0 0 0 0 0 0 0 0 0 0 0 0 0 0 0 0 0 0 0 0 0 0 0 0 0 0 0 0\n",
      " 0 0 0 0 0 0 0 0 0 0 0 0 0 1 1 1 1 1 1 1 1 1 1 1 1 1 1 1 1 1 1 1 1 1 1 1 1\n",
      " 1 1 1 1 1 1 1 1 1 1 1 1 1 1 1 1 1 1 1 1 1 1 1 1 1 1 2 2 2 2 2 2 2 2 2 2 2\n",
      " 2 2 2 2 2 2 2 2 2 2 2 2 2 2 2 2 2 2 2 2 2 2 2 2 2 2 2 2 2 2 2 2 2 2 2 2 2\n",
      " 2 2]\n",
      ".. _iris_dataset:\n",
      "\n",
      "Iris plants dataset\n",
      "--------------------\n",
      "\n",
      "**Data Set Characteristics:**\n",
      "\n",
      "    :Number of Instances: 150 (50 in each of three classes)\n",
      "    :Number of Attributes: 4 numeric, predictive attributes and the class\n",
      "    :Attribute Information:\n",
      "        - sepal length in cm\n",
      "        - sepal width in cm\n",
      "        - petal length in cm\n",
      "        - petal width in cm\n",
      "        - class:\n",
      "                - Iris-Setosa\n",
      "                - Iris-Versicolour\n",
      "                - Iris-Virginica\n",
      "                \n",
      "    :Summary Statistics:\n",
      "\n",
      "    ============== ==== ==== ======= ===== ====================\n",
      "                    Min  Max   Mean    SD   Class Correlation\n",
      "    ============== ==== ==== ======= ===== ====================\n",
      "    sepal length:   4.3  7.9   5.84   0.83    0.7826\n",
      "    sepal width:    2.0  4.4   3.05   0.43   -0.4194\n",
      "    petal length:   1.0  6.9   3.76   1.76    0.9490  (high!)\n",
      "    petal width:    0.1  2.5   1.20   0.76    0.9565  (high!)\n",
      "    ============== ==== ==== ======= ===== ====================\n",
      "\n",
      "    :Missing Attribute Values: None\n",
      "    :Class Distribution: 33.3% for each of 3 classes.\n",
      "    :Creator: R.A. Fisher\n",
      "    :Donor: Michael Marshall (MARSHALL%PLU@io.arc.nasa.gov)\n",
      "    :Date: July, 1988\n",
      "\n",
      "The famous Iris database, first used by Sir R.A. Fisher. The dataset is taken\n",
      "from Fisher's paper. Note that it's the same as in R, but not as in the UCI\n",
      "Machine Learning Repository, which has two wrong data points.\n",
      "\n",
      "This is perhaps the best known database to be found in the\n",
      "pattern recognition literature.  Fisher's paper is a classic in the field and\n",
      "is referenced frequently to this day.  (See Duda & Hart, for example.)  The\n",
      "data set contains 3 classes of 50 instances each, where each class refers to a\n",
      "type of iris plant.  One class is linearly separable from the other 2; the\n",
      "latter are NOT linearly separable from each other.\n",
      "\n",
      ".. topic:: References\n",
      "\n",
      "   - Fisher, R.A. \"The use of multiple measurements in taxonomic problems\"\n",
      "     Annual Eugenics, 7, Part II, 179-188 (1936); also in \"Contributions to\n",
      "     Mathematical Statistics\" (John Wiley, NY, 1950).\n",
      "   - Duda, R.O., & Hart, P.E. (1973) Pattern Classification and Scene Analysis.\n",
      "     (Q327.D83) John Wiley & Sons.  ISBN 0-471-22361-1.  See page 218.\n",
      "   - Dasarathy, B.V. (1980) \"Nosing Around the Neighborhood: A New System\n",
      "     Structure and Classification Rule for Recognition in Partially Exposed\n",
      "     Environments\".  IEEE Transactions on Pattern Analysis and Machine\n",
      "     Intelligence, Vol. PAMI-2, No. 1, 67-71.\n",
      "   - Gates, G.W. (1972) \"The Reduced Nearest Neighbor Rule\".  IEEE Transactions\n",
      "     on Information Theory, May 1972, 431-433.\n",
      "   - See also: 1988 MLC Proceedings, 54-64.  Cheeseman et al\"s AUTOCLASS II\n",
      "     conceptual clustering system finds 3 classes in the data.\n",
      "   - Many, many more ...\n"
     ]
    }
   ],
   "source": [
    "\"\"\" We can access the scikit datasets by using .data, **.target and **.DESCR \"\"\"\n",
    "print(iris.data[0:5,])\n",
    "print(iris.target)\n",
    "print(iris.DESCR)"
   ]
  },
  {
   "cell_type": "markdown",
   "metadata": {
    "id": "64npiprkbL4M"
   },
   "source": [
    "**Cancer**   \n",
    "Access dataset information for the cancer dataset. "
   ]
  },
  {
   "cell_type": "code",
   "execution_count": 29,
   "metadata": {
    "colab": {
     "base_uri": "https://localhost:8080/"
    },
    "id": "bvId8VUobJGB",
    "outputId": "99cad5c9-2731-42ae-ae49-124b8feb91f4"
   },
   "outputs": [
    {
     "name": "stdout",
     "output_type": "stream",
     "text": [
      "[[1.799e+01 1.038e+01 1.228e+02 1.001e+03 1.184e-01 2.776e-01 3.001e-01\n",
      "  1.471e-01 2.419e-01 7.871e-02 1.095e+00 9.053e-01 8.589e+00 1.534e+02\n",
      "  6.399e-03 4.904e-02 5.373e-02 1.587e-02 3.003e-02 6.193e-03 2.538e+01\n",
      "  1.733e+01 1.846e+02 2.019e+03 1.622e-01 6.656e-01 7.119e-01 2.654e-01\n",
      "  4.601e-01 1.189e-01]\n",
      " [2.057e+01 1.777e+01 1.329e+02 1.326e+03 8.474e-02 7.864e-02 8.690e-02\n",
      "  7.017e-02 1.812e-01 5.667e-02 5.435e-01 7.339e-01 3.398e+00 7.408e+01\n",
      "  5.225e-03 1.308e-02 1.860e-02 1.340e-02 1.389e-02 3.532e-03 2.499e+01\n",
      "  2.341e+01 1.588e+02 1.956e+03 1.238e-01 1.866e-01 2.416e-01 1.860e-01\n",
      "  2.750e-01 8.902e-02]\n",
      " [1.969e+01 2.125e+01 1.300e+02 1.203e+03 1.096e-01 1.599e-01 1.974e-01\n",
      "  1.279e-01 2.069e-01 5.999e-02 7.456e-01 7.869e-01 4.585e+00 9.403e+01\n",
      "  6.150e-03 4.006e-02 3.832e-02 2.058e-02 2.250e-02 4.571e-03 2.357e+01\n",
      "  2.553e+01 1.525e+02 1.709e+03 1.444e-01 4.245e-01 4.504e-01 2.430e-01\n",
      "  3.613e-01 8.758e-02]\n",
      " [1.142e+01 2.038e+01 7.758e+01 3.861e+02 1.425e-01 2.839e-01 2.414e-01\n",
      "  1.052e-01 2.597e-01 9.744e-02 4.956e-01 1.156e+00 3.445e+00 2.723e+01\n",
      "  9.110e-03 7.458e-02 5.661e-02 1.867e-02 5.963e-02 9.208e-03 1.491e+01\n",
      "  2.650e+01 9.887e+01 5.677e+02 2.098e-01 8.663e-01 6.869e-01 2.575e-01\n",
      "  6.638e-01 1.730e-01]\n",
      " [2.029e+01 1.434e+01 1.351e+02 1.297e+03 1.003e-01 1.328e-01 1.980e-01\n",
      "  1.043e-01 1.809e-01 5.883e-02 7.572e-01 7.813e-01 5.438e+00 9.444e+01\n",
      "  1.149e-02 2.461e-02 5.688e-02 1.885e-02 1.756e-02 5.115e-03 2.254e+01\n",
      "  1.667e+01 1.522e+02 1.575e+03 1.374e-01 2.050e-01 4.000e-01 1.625e-01\n",
      "  2.364e-01 7.678e-02]]\n",
      "[0 0 0 0 0 0 0 0 0 0 0 0 0 0 0 0 0 0 0 1 1 1 0 0 0 0 0 0 0 0 0 0 0 0 0 0 0\n",
      " 1 0 0 0 0 0 0 0 0 1 0 1 1 1 1 1 0 0 1 0 0 1 1 1 1 0 1 0 0 1 1 1 1 0 1 0 0\n",
      " 1 0 1 0 0 1 1 1 0 0 1 0 0 0 1 1 1 0 1 1 0 0 1 1 1 0 0 1 1 1 1 0 1 1 0 1 1\n",
      " 1 1 1 1 1 1 0 0 0 1 0 0 1 1 1 0 0 1 0 1 0 0 1 0 0 1 1 0 1 1 0 1 1 1 1 0 1\n",
      " 1 1 1 1 1 1 1 1 0 1 1 1 1 0 0 1 0 1 1 0 0 1 1 0 0 1 1 1 1 0 1 1 0 0 0 1 0\n",
      " 1 0 1 1 1 0 1 1 0 0 1 0 0 0 0 1 0 0 0 1 0 1 0 1 1 0 1 0 0 0 0 1 1 0 0 1 1\n",
      " 1 0 1 1 1 1 1 0 0 1 1 0 1 1 0 0 1 0 1 1 1 1 0 1 1 1 1 1 0 1 0 0 0 0 0 0 0\n",
      " 0 0 0 0 0 0 0 1 1 1 1 1 1 0 1 0 1 1 0 1 1 0 1 0 0 1 1 1 1 1 1 1 1 1 1 1 1\n",
      " 1 0 1 1 0 1 0 1 1 1 1 1 1 1 1 1 1 1 1 1 1 0 1 1 1 0 1 0 1 1 1 1 0 0 0 1 1\n",
      " 1 1 0 1 0 1 0 1 1 1 0 1 1 1 1 1 1 1 0 0 0 1 1 1 1 1 1 1 1 1 1 1 0 0 1 0 0\n",
      " 0 1 0 0 1 1 1 1 1 0 1 1 1 1 1 0 1 1 1 0 1 1 0 0 1 1 1 1 1 1 0 1 1 1 1 1 1\n",
      " 1 0 1 1 1 1 1 0 1 1 0 1 1 1 1 1 1 1 1 1 1 1 1 0 1 0 0 1 0 1 1 1 1 1 0 1 1\n",
      " 0 1 0 1 1 0 1 0 1 1 1 1 1 1 1 1 0 0 1 1 1 1 1 1 0 1 1 1 1 1 1 1 1 1 1 0 1\n",
      " 1 1 1 1 1 1 0 1 0 1 1 0 1 1 1 1 1 0 0 1 0 1 0 1 1 1 1 1 0 1 1 0 1 0 1 0 0\n",
      " 1 1 1 0 1 1 1 1 1 1 1 1 1 1 1 0 1 0 0 1 1 1 1 1 1 1 1 1 1 1 1 1 1 1 1 1 1\n",
      " 1 1 1 1 1 1 1 0 0 0 0 0 0 1]\n",
      ".. _breast_cancer_dataset:\n",
      "\n",
      "Breast cancer wisconsin (diagnostic) dataset\n",
      "--------------------------------------------\n",
      "\n",
      "**Data Set Characteristics:**\n",
      "\n",
      "    :Number of Instances: 569\n",
      "\n",
      "    :Number of Attributes: 30 numeric, predictive attributes and the class\n",
      "\n",
      "    :Attribute Information:\n",
      "        - radius (mean of distances from center to points on the perimeter)\n",
      "        - texture (standard deviation of gray-scale values)\n",
      "        - perimeter\n",
      "        - area\n",
      "        - smoothness (local variation in radius lengths)\n",
      "        - compactness (perimeter^2 / area - 1.0)\n",
      "        - concavity (severity of concave portions of the contour)\n",
      "        - concave points (number of concave portions of the contour)\n",
      "        - symmetry \n",
      "        - fractal dimension (\"coastline approximation\" - 1)\n",
      "\n",
      "        The mean, standard error, and \"worst\" or largest (mean of the three\n",
      "        largest values) of these features were computed for each image,\n",
      "        resulting in 30 features.  For instance, field 3 is Mean Radius, field\n",
      "        13 is Radius SE, field 23 is Worst Radius.\n",
      "\n",
      "        - class:\n",
      "                - WDBC-Malignant\n",
      "                - WDBC-Benign\n",
      "\n",
      "    :Summary Statistics:\n",
      "\n",
      "    ===================================== ====== ======\n",
      "                                           Min    Max\n",
      "    ===================================== ====== ======\n",
      "    radius (mean):                        6.981  28.11\n",
      "    texture (mean):                       9.71   39.28\n",
      "    perimeter (mean):                     43.79  188.5\n",
      "    area (mean):                          143.5  2501.0\n",
      "    smoothness (mean):                    0.053  0.163\n",
      "    compactness (mean):                   0.019  0.345\n",
      "    concavity (mean):                     0.0    0.427\n",
      "    concave points (mean):                0.0    0.201\n",
      "    symmetry (mean):                      0.106  0.304\n",
      "    fractal dimension (mean):             0.05   0.097\n",
      "    radius (standard error):              0.112  2.873\n",
      "    texture (standard error):             0.36   4.885\n",
      "    perimeter (standard error):           0.757  21.98\n",
      "    area (standard error):                6.802  542.2\n",
      "    smoothness (standard error):          0.002  0.031\n",
      "    compactness (standard error):         0.002  0.135\n",
      "    concavity (standard error):           0.0    0.396\n",
      "    concave points (standard error):      0.0    0.053\n",
      "    symmetry (standard error):            0.008  0.079\n",
      "    fractal dimension (standard error):   0.001  0.03\n",
      "    radius (worst):                       7.93   36.04\n",
      "    texture (worst):                      12.02  49.54\n",
      "    perimeter (worst):                    50.41  251.2\n",
      "    area (worst):                         185.2  4254.0\n",
      "    smoothness (worst):                   0.071  0.223\n",
      "    compactness (worst):                  0.027  1.058\n",
      "    concavity (worst):                    0.0    1.252\n",
      "    concave points (worst):               0.0    0.291\n",
      "    symmetry (worst):                     0.156  0.664\n",
      "    fractal dimension (worst):            0.055  0.208\n",
      "    ===================================== ====== ======\n",
      "\n",
      "    :Missing Attribute Values: None\n",
      "\n",
      "    :Class Distribution: 212 - Malignant, 357 - Benign\n",
      "\n",
      "    :Creator:  Dr. William H. Wolberg, W. Nick Street, Olvi L. Mangasarian\n",
      "\n",
      "    :Donor: Nick Street\n",
      "\n",
      "    :Date: November, 1995\n",
      "\n",
      "This is a copy of UCI ML Breast Cancer Wisconsin (Diagnostic) datasets.\n",
      "https://goo.gl/U2Uwz2\n",
      "\n",
      "Features are computed from a digitized image of a fine needle\n",
      "aspirate (FNA) of a breast mass.  They describe\n",
      "characteristics of the cell nuclei present in the image.\n",
      "\n",
      "Separating plane described above was obtained using\n",
      "Multisurface Method-Tree (MSM-T) [K. P. Bennett, \"Decision Tree\n",
      "Construction Via Linear Programming.\" Proceedings of the 4th\n",
      "Midwest Artificial Intelligence and Cognitive Science Society,\n",
      "pp. 97-101, 1992], a classification method which uses linear\n",
      "programming to construct a decision tree.  Relevant features\n",
      "were selected using an exhaustive search in the space of 1-4\n",
      "features and 1-3 separating planes.\n",
      "\n",
      "The actual linear program used to obtain the separating plane\n",
      "in the 3-dimensional space is that described in:\n",
      "[K. P. Bennett and O. L. Mangasarian: \"Robust Linear\n",
      "Programming Discrimination of Two Linearly Inseparable Sets\",\n",
      "Optimization Methods and Software 1, 1992, 23-34].\n",
      "\n",
      "This database is also available through the UW CS ftp server:\n",
      "\n",
      "ftp ftp.cs.wisc.edu\n",
      "cd math-prog/cpo-dataset/machine-learn/WDBC/\n",
      "\n",
      ".. topic:: References\n",
      "\n",
      "   - W.N. Street, W.H. Wolberg and O.L. Mangasarian. Nuclear feature extraction \n",
      "     for breast tumor diagnosis. IS&T/SPIE 1993 International Symposium on \n",
      "     Electronic Imaging: Science and Technology, volume 1905, pages 861-870,\n",
      "     San Jose, CA, 1993.\n",
      "   - O.L. Mangasarian, W.N. Street and W.H. Wolberg. Breast cancer diagnosis and \n",
      "     prognosis via linear programming. Operations Research, 43(4), pages 570-577, \n",
      "     July-August 1995.\n",
      "   - W.H. Wolberg, W.N. Street, and O.L. Mangasarian. Machine learning techniques\n",
      "     to diagnose breast cancer from fine-needle aspirates. Cancer Letters 77 (1994) \n",
      "     163-171.\n"
     ]
    }
   ],
   "source": [
    "\"\"\" We can access the scikit datasets by using .data, **.target and **.DESCR \"\"\"\n",
    "print(cancer.data[0:5,])\n",
    "print(cancer.target)\n",
    "print(cancer.DESCR)"
   ]
  },
  {
   "cell_type": "markdown",
   "metadata": {
    "id": "i97hF9jlbPx-"
   },
   "source": [
    "**Wine**  \n",
    "Access dataset information for the wine dataset. "
   ]
  },
  {
   "cell_type": "code",
   "execution_count": 30,
   "metadata": {
    "colab": {
     "base_uri": "https://localhost:8080/"
    },
    "id": "m8bAawGYbPJu",
    "outputId": "1e20ce32-3a6a-42e6-fb91-cdcacbc907d8"
   },
   "outputs": [
    {
     "name": "stdout",
     "output_type": "stream",
     "text": [
      "[[1.423e+01 1.710e+00 2.430e+00 1.560e+01 1.270e+02 2.800e+00 3.060e+00\n",
      "  2.800e-01 2.290e+00 5.640e+00 1.040e+00 3.920e+00 1.065e+03]\n",
      " [1.320e+01 1.780e+00 2.140e+00 1.120e+01 1.000e+02 2.650e+00 2.760e+00\n",
      "  2.600e-01 1.280e+00 4.380e+00 1.050e+00 3.400e+00 1.050e+03]\n",
      " [1.316e+01 2.360e+00 2.670e+00 1.860e+01 1.010e+02 2.800e+00 3.240e+00\n",
      "  3.000e-01 2.810e+00 5.680e+00 1.030e+00 3.170e+00 1.185e+03]\n",
      " [1.437e+01 1.950e+00 2.500e+00 1.680e+01 1.130e+02 3.850e+00 3.490e+00\n",
      "  2.400e-01 2.180e+00 7.800e+00 8.600e-01 3.450e+00 1.480e+03]\n",
      " [1.324e+01 2.590e+00 2.870e+00 2.100e+01 1.180e+02 2.800e+00 2.690e+00\n",
      "  3.900e-01 1.820e+00 4.320e+00 1.040e+00 2.930e+00 7.350e+02]]\n",
      "[0 0 0 0 0 0 0 0 0 0 0 0 0 0 0 0 0 0 0 0 0 0 0 0 0 0 0 0 0 0 0 0 0 0 0 0 0\n",
      " 0 0 0 0 0 0 0 0 0 0 0 0 0 0 0 0 0 0 0 0 0 0 1 1 1 1 1 1 1 1 1 1 1 1 1 1 1\n",
      " 1 1 1 1 1 1 1 1 1 1 1 1 1 1 1 1 1 1 1 1 1 1 1 1 1 1 1 1 1 1 1 1 1 1 1 1 1\n",
      " 1 1 1 1 1 1 1 1 1 1 1 1 1 1 1 1 1 1 1 2 2 2 2 2 2 2 2 2 2 2 2 2 2 2 2 2 2\n",
      " 2 2 2 2 2 2 2 2 2 2 2 2 2 2 2 2 2 2 2 2 2 2 2 2 2 2 2 2 2 2]\n",
      ".. _wine_dataset:\n",
      "\n",
      "Wine recognition dataset\n",
      "------------------------\n",
      "\n",
      "**Data Set Characteristics:**\n",
      "\n",
      "    :Number of Instances: 178 (50 in each of three classes)\n",
      "    :Number of Attributes: 13 numeric, predictive attributes and the class\n",
      "    :Attribute Information:\n",
      " \t\t- Alcohol\n",
      " \t\t- Malic acid\n",
      " \t\t- Ash\n",
      "\t\t- Alcalinity of ash  \n",
      " \t\t- Magnesium\n",
      "\t\t- Total phenols\n",
      " \t\t- Flavanoids\n",
      " \t\t- Nonflavanoid phenols\n",
      " \t\t- Proanthocyanins\n",
      "\t\t- Color intensity\n",
      " \t\t- Hue\n",
      " \t\t- OD280/OD315 of diluted wines\n",
      " \t\t- Proline\n",
      "\n",
      "    - class:\n",
      "            - class_0\n",
      "            - class_1\n",
      "            - class_2\n",
      "\t\t\n",
      "    :Summary Statistics:\n",
      "    \n",
      "    ============================= ==== ===== ======= =====\n",
      "                                   Min   Max   Mean     SD\n",
      "    ============================= ==== ===== ======= =====\n",
      "    Alcohol:                      11.0  14.8    13.0   0.8\n",
      "    Malic Acid:                   0.74  5.80    2.34  1.12\n",
      "    Ash:                          1.36  3.23    2.36  0.27\n",
      "    Alcalinity of Ash:            10.6  30.0    19.5   3.3\n",
      "    Magnesium:                    70.0 162.0    99.7  14.3\n",
      "    Total Phenols:                0.98  3.88    2.29  0.63\n",
      "    Flavanoids:                   0.34  5.08    2.03  1.00\n",
      "    Nonflavanoid Phenols:         0.13  0.66    0.36  0.12\n",
      "    Proanthocyanins:              0.41  3.58    1.59  0.57\n",
      "    Colour Intensity:              1.3  13.0     5.1   2.3\n",
      "    Hue:                          0.48  1.71    0.96  0.23\n",
      "    OD280/OD315 of diluted wines: 1.27  4.00    2.61  0.71\n",
      "    Proline:                       278  1680     746   315\n",
      "    ============================= ==== ===== ======= =====\n",
      "\n",
      "    :Missing Attribute Values: None\n",
      "    :Class Distribution: class_0 (59), class_1 (71), class_2 (48)\n",
      "    :Creator: R.A. Fisher\n",
      "    :Donor: Michael Marshall (MARSHALL%PLU@io.arc.nasa.gov)\n",
      "    :Date: July, 1988\n",
      "\n",
      "This is a copy of UCI ML Wine recognition datasets.\n",
      "https://archive.ics.uci.edu/ml/machine-learning-databases/wine/wine.data\n",
      "\n",
      "The data is the results of a chemical analysis of wines grown in the same\n",
      "region in Italy by three different cultivators. There are thirteen different\n",
      "measurements taken for different constituents found in the three types of\n",
      "wine.\n",
      "\n",
      "Original Owners: \n",
      "\n",
      "Forina, M. et al, PARVUS - \n",
      "An Extendible Package for Data Exploration, Classification and Correlation. \n",
      "Institute of Pharmaceutical and Food Analysis and Technologies,\n",
      "Via Brigata Salerno, 16147 Genoa, Italy.\n",
      "\n",
      "Citation:\n",
      "\n",
      "Lichman, M. (2013). UCI Machine Learning Repository\n",
      "[https://archive.ics.uci.edu/ml]. Irvine, CA: University of California,\n",
      "School of Information and Computer Science. \n",
      "\n",
      ".. topic:: References\n",
      "\n",
      "  (1) S. Aeberhard, D. Coomans and O. de Vel, \n",
      "  Comparison of Classifiers in High Dimensional Settings, \n",
      "  Tech. Rep. no. 92-02, (1992), Dept. of Computer Science and Dept. of  \n",
      "  Mathematics and Statistics, James Cook University of North Queensland. \n",
      "  (Also submitted to Technometrics). \n",
      "\n",
      "  The data was used with many others for comparing various \n",
      "  classifiers. The classes are separable, though only RDA \n",
      "  has achieved 100% correct classification. \n",
      "  (RDA : 100%, QDA 99.4%, LDA 98.9%, 1NN 96.1% (z-transformed data)) \n",
      "  (All results using the leave-one-out technique) \n",
      "\n",
      "  (2) S. Aeberhard, D. Coomans and O. de Vel, \n",
      "  \"THE CLASSIFICATION PERFORMANCE OF RDA\" \n",
      "  Tech. Rep. no. 92-01, (1992), Dept. of Computer Science and Dept. of \n",
      "  Mathematics and Statistics, James Cook University of North Queensland. \n",
      "  (Also submitted to Journal of Chemometrics).\n",
      "\n"
     ]
    }
   ],
   "source": [
    "\"\"\" We can access the scikit datasets by using .data, **.target and **.DESCR \"\"\"\n",
    "print(wine.data[0:5,])\n",
    "print(wine.target)\n",
    "print(wine.DESCR)"
   ]
  },
  {
   "cell_type": "markdown",
   "metadata": {
    "id": "DUEcsIQ7bfPN"
   },
   "source": [
    "## Load other packages \n",
    "\n",
    "Import other important packages necessary for supervised learning. The below links gives information and significance of each sklearn modules.\n",
    "\n",
    "https://docs.python.org/3/library/math.html\n",
    "\n",
    "https://docs.python.org/3/library/random.html\n",
    "\n",
    "http://scikit-learn.org/stable/modules/neighbors.html\n",
    "\n",
    "http://scikit-learn.org/stable/modules/cross_validation.html\n"
   ]
  },
  {
   "cell_type": "code",
   "execution_count": 31,
   "metadata": {
    "id": "JbA5Qr7KbUu1"
   },
   "outputs": [],
   "source": [
    "# import matplotlib.pyplot for plotting framework\n",
    "import matplotlib.pyplot as plt\n",
    "import matplotlib as mpl\n",
    "\n",
    "# for ploting in within notebook\n",
    "%matplotlib inline \n",
    "\n",
    "# import numpy\n",
    "import numpy as np\n",
    "\n",
    "# import math and random modules\n",
    "import math, random\n",
    "\n",
    "\n",
    "# sklearn is most important module for supervised learning. For knn import neighbors, metrics\n",
    "# the need for sklearn's above modules are detailed in the link provided above. \n",
    "\n",
    "# import neighbors and metrics\n",
    "from sklearn import neighbors, metrics\n",
    " \n",
    "# look into metrics and import confusion matrix function\n",
    "from sklearn.metrics import confusion_matrix \n",
    "\n",
    "\n",
    "# import train_test_split function from sklearn\n",
    "from sklearn.model_selection import train_test_split\n",
    "\n",
    "# import cross_val_score from sklearn validation\n",
    "from sklearn.model_selection import cross_val_score"
   ]
  },
  {
   "cell_type": "markdown",
   "metadata": {
    "id": "a1dEpg52b4Zi"
   },
   "source": [
    "We know that Sci-kit learn input data is structured in Numpy arrays, organized as\n",
    "\n",
    "**X** := n_samples x  n_features"
   ]
  },
  {
   "cell_type": "code",
   "execution_count": 32,
   "metadata": {
    "id": "Ufw7Jda1bzhb"
   },
   "outputs": [],
   "source": [
    "\"\"\" \n",
    "Assign the data of iris to Xi and target class to yi (beware of case sensitive variables \n",
    "defined here). Similarly, assign Xc and yc to cancer data and target respectively and \n",
    "Xw and yw for the wine data.\n",
    "\"\"\"\n",
    "#i suffix for iris dataset\n",
    "Xi = iris.data \n",
    "yi = iris.target \n",
    "\n",
    "# c suffix for cancer dataset\n",
    "Xc = cancer.data \n",
    "yc = cancer.target\n",
    "\n",
    "# w suffix for wine dataset\n",
    "Xw = wine.data \n",
    "yw = wine.target"
   ]
  },
  {
   "cell_type": "markdown",
   "metadata": {
    "id": "XGn3RORKcIjl"
   },
   "source": [
    "## Question 2: KNN\n",
    "\n"
   ]
  },
  {
   "cell_type": "markdown",
   "metadata": {
    "id": "RKmV3gMKcQvk"
   },
   "source": [
    "### Q2A: `scikit-learn` model selection \n",
    "\n",
    "In section 5.3, page 75, the dataset is randomly split to train and test data. The code uses random function with permutation and a `ravel()` function. Let us use scikit learn function to perform the similar action.\n",
    "\n",
    "Use the `train_test_split` function to split the toy data sets in the following ways: \n",
    "\n",
    "1. Iris: create a test set with size of 33% of the data \n",
    "2. Cancer: create a test set with 1/4th of the samples \n",
    "3. Wine: create a test set with 20% of the samples \n",
    "\n",
    "Use the random state of 5 - for  repeatability. \n",
    "\n",
    "Refer link below to learn more:\n",
    "http://scikit-learn.org/stable/modules/generated/sklearn.model_selection.train_test_split.html"
   ]
  },
  {
   "cell_type": "code",
   "execution_count": 33,
   "metadata": {
    "id": "leGbFI8xcG-a"
   },
   "outputs": [],
   "source": [
    "# for iris dataset\n",
    "Xi_train, Xi_test, yi_train, yi_test = train_test_split(Xi, yi, \n",
    "                                            test_size=0.33, random_state=5)\n",
    "\n",
    "# for cancer dataset\n",
    "Xc_train, Xc_test, yc_train, yc_test = train_test_split(Xc, yc, \n",
    "                                            test_size=0.25, random_state=5)\n",
    "\n",
    "# for wine dataset\n",
    "Xw_train, Xw_test, yw_train, yw_test = train_test_split(Xw, yw, \n",
    "                                            test_size=0.20, random_state=5)\n",
    "\n"
   ]
  },
  {
   "cell_type": "markdown",
   "metadata": {
    "id": "glUo9_71cijg"
   },
   "source": [
    "Observe the size of test and train sets "
   ]
  },
  {
   "cell_type": "code",
   "execution_count": 34,
   "metadata": {
    "colab": {
     "base_uri": "https://localhost:8080/"
    },
    "id": "XqvGJKSTclss",
    "outputId": "646c46e9-255e-423a-cd1b-875cc0f8f45b"
   },
   "outputs": [
    {
     "name": "stdout",
     "output_type": "stream",
     "text": [
      "For Iris Dataset\n",
      "data shape (X): (150, 4) and Target shape (y): (150,)\n",
      "Training shape: (100, 4) and Training targets shape: (100,)\n",
      "Testing shape: (50, 4) and Testing targets shape: (50,)\n",
      "\n",
      "\n",
      "For Cancer Dataset\n",
      "data shape (X): (569, 30) and Target shape (y): (569,)\n",
      "Training shape: (426, 30) and Training targets shape: (426,)\n",
      "Testing shape: (143, 30) and Testing targets shape: (143,)\n",
      "\n",
      "\n",
      "For wine Dataset\n",
      "data shape (X): (178, 13) and Target shape (y): (178,)\n",
      "Training shape: (142, 13) and Training targets shape: (142,)\n",
      "Testing shape: (36, 13) and Testing targets shape: (36,)\n"
     ]
    }
   ],
   "source": [
    "print(\"For Iris Dataset\")\n",
    "print(\"data shape (X):\", Xi.shape, \"and\",  \"Target shape (y):\", yi.shape)\n",
    "print(\"Training shape:\", Xi_train.shape, \"and\",  \"Training targets shape:\", yi_train.shape)\n",
    "print(\"Testing shape:\", Xi_test.shape, \"and\",  \"Testing targets shape:\", yi_test.shape)\n",
    "\n",
    "print (\"\\n\")\n",
    "\n",
    "print(\"For Cancer Dataset\")\n",
    "print(\"data shape (X):\", Xc.shape, \"and\",  \"Target shape (y):\", yc.shape)\n",
    "print(\"Training shape:\", Xc_train.shape, \"and\",  \"Training targets shape:\", yc_train.shape)\n",
    "print(\"Testing shape:\", Xc_test.shape, \"and\",  \"Testing targets shape:\", yc_test.shape)\n",
    "\n",
    "\n",
    "print (\"\\n\")\n",
    "print(\"For wine Dataset\")\n",
    "print(\"data shape (X):\", Xw.shape, \"and\",  \"Target shape (y):\", yw.shape)\n",
    "print(\"Training shape:\", Xw_train.shape, \"and\",  \"Training targets shape:\", yw_train.shape)\n",
    "print(\"Testing shape:\", Xw_test.shape, \"and\",  \"Testing targets shape:\", yw_test.shape)"
   ]
  },
  {
   "cell_type": "markdown",
   "metadata": {
    "id": "9HW-D_Crcrt7"
   },
   "source": [
    "Show the distribution of class labels is the same between the full dataset, training set, and test set for iris."
   ]
  },
  {
   "cell_type": "code",
   "execution_count": 35,
   "metadata": {
    "colab": {
     "base_uri": "https://localhost:8080/",
     "height": 295
    },
    "id": "nz0nXRBxcoOm",
    "outputId": "f151c876-769c-47f7-c516-7c0866da3855"
   },
   "outputs": [
    {
     "data": {
      "image/png": "[encoded data removed]",
      "text/plain": [
       "<Figure size 792x288 with 3 Axes>"
      ]
     },
     "metadata": {
      "needs_background": "light"
     },
     "output_type": "display_data"
    }
   ],
   "source": [
    "plt.figure(figsize=(11,4)) \n",
    "plt.subplot(1, 3, 1)\n",
    "plt.hist(yi)\n",
    "plt.xlabel(\"Y values\")\n",
    "plt.ylabel(\"Counts\")\n",
    "plt.title(\"Data Set\")\n",
    "\n",
    "plt.subplot(1, 3, 2)\n",
    "plt.hist(yi_train)\n",
    "plt.xlabel(\"Y values\")\n",
    "plt.ylabel(\"Counts\")\n",
    "plt.title(\"Train Set\")\n",
    "\n",
    "plt.subplot(1, 3, 3)\n",
    "plt.hist(yi_test)\n",
    "plt.xlabel(\"Y values\")\n",
    "plt.ylabel(\"Counts\")\n",
    "plt.title(\"Test Set\");"
   ]
  },
  {
   "cell_type": "markdown",
   "metadata": {
    "id": "6bWj9tK9cyE9"
   },
   "source": [
    "### Q2B: Train a KNN model \n",
    "\n",
    "For KNN classification, use 5 neighbors initially."
   ]
  },
  {
   "cell_type": "code",
   "execution_count": 36,
   "metadata": {
    "id": "3v7Bw0j0cvLv"
   },
   "outputs": [],
   "source": [
    "# \"\"\" let n_neighbors = 5 be used here \"\"\"\n",
    "\n",
    "\"\"\" For iris dataset analysis \"\"\"\n",
    "X_train = Xi_train\n",
    "y_train = yi_train\n",
    "X_test =  Xi_test\n",
    "y_test =  yi_test\n",
    "target_names = iris.target_names\n",
    "\n",
    "\n",
    "\"\"\" For cancer dataset analysis \"\"\"\n",
    "# X_train = Xc_train\n",
    "# y_train = yc_train\n",
    "# X_test =  Xc_test\n",
    "# y_test =  yc_test\n",
    "# target_names = cancer.target_names\n",
    "\n",
    "\n",
    "\"\"\" For wine dataset analysis \"\"\"\n",
    "# X_train = Xw_train\n",
    "# y_train = yw_train\n",
    "# X_test =  Xw_test\n",
    "# y_test =  yw_test\n",
    "# target_names = wine.target_names\n",
    "\n",
    "\n",
    "knn = neighbors.KNeighborsClassifier(n_neighbors = 5)"
   ]
  },
  {
   "cell_type": "code",
   "execution_count": 37,
   "metadata": {
    "colab": {
     "base_uri": "https://localhost:8080/"
    },
    "id": "Nsffz54Rc60M",
    "outputId": "2b726753-3e43-468c-91d4-78e7bd7a54d3"
   },
   "outputs": [
    {
     "data": {
      "text/plain": [
       "KNeighborsClassifier(algorithm='auto', leaf_size=30, metric='minkowski',\n",
       "                     metric_params=None, n_jobs=None, n_neighbors=5, p=2,\n",
       "                     weights='uniform')"
      ]
     },
     "execution_count": 37,
     "metadata": {},
     "output_type": "execute_result"
    }
   ],
   "source": [
    "# train the classifier using the training data, use fit()\n",
    "knn.fit(Xi_train, yi_train)"
   ]
  },
  {
   "cell_type": "code",
   "execution_count": 38,
   "metadata": {
    "id": "7vXOXeFQc-o2"
   },
   "outputs": [],
   "source": [
    "# compute the prediction of the test set using predict()\n",
    "predict = knn.predict(Xi_test)"
   ]
  },
  {
   "cell_type": "code",
   "execution_count": 39,
   "metadata": {
    "colab": {
     "base_uri": "https://localhost:8080/"
    },
    "id": "Wh8IGO8TdAqo",
    "outputId": "b00f376d-d844-4698-f2da-6a12b26ce8f7"
   },
   "outputs": [
    {
     "data": {
      "text/plain": [
       "0.98"
      ]
     },
     "execution_count": 39,
     "metadata": {},
     "output_type": "execute_result"
    }
   ],
   "source": [
    "# compute the accuracy in predicting the test set \n",
    "from sklearn.metrics import accuracy_score \n",
    "accuracy_score(yi_test, predict)"
   ]
  },
  {
   "cell_type": "markdown",
   "metadata": {
    "id": "u1YCl7mjdIQ4"
   },
   "source": [
    "We saw that the accuracy score for iris dataset was above 0.95. For the same neighbor, how is the accuracy score for different datasets.\n",
    "\n",
    "* What was the accuracy score for breast cancer dataset?\n",
    "* What was the accuracy score for wine dataset?"
   ]
  },
  {
   "cell_type": "code",
   "execution_count": 40,
   "metadata": {
    "id": "hIUmKXkijdMy"
   },
   "outputs": [],
   "source": [
    "# Train a KNN model for Cancer data\n",
    "from sklearn.metrics import accuracy_score\n",
    "knn1 = neighbors.KNeighborsClassifier(n_neighbors = 5)\n",
    "knn1.fit(Xc_train, yc_train)\n",
    "predict1  = knn1.predict(Xc_test)\n",
    "cancer_acc=accuracy_score(yc_test, predict1)\n",
    "\n",
    "\n",
    "# Train a KNN model for Wine data\n",
    "knn2 = neighbors.KNeighborsClassifier(n_neighbors = 5)\n",
    "knn2.fit(Xw_train, yw_train)\n",
    "predict2  = knn2.predict(Xw_test)\n",
    "wine_acc=accuracy_score(yw_test, predict2)"
   ]
  },
  {
   "cell_type": "code",
   "execution_count": 41,
   "metadata": {
    "colab": {
     "base_uri": "https://localhost:8080/"
    },
    "id": "lJmmO7V8dCkf",
    "outputId": "ae6e4545-148e-481f-e282-f815d5a31292"
   },
   "outputs": [
    {
     "name": "stdout",
     "output_type": "stream",
     "text": [
      "Accuracy for cancer data: 0.951048951048951\n",
      "Accuracy for wine data: 0.6666666666666666\n"
     ]
    }
   ],
   "source": [
    "# record the accuracy for cancer and wine here \n",
    "print(f'Accuracy for cancer data: {cancer_acc}')\n",
    "print(f'Accuracy for wine data: {wine_acc}')"
   ]
  },
  {
   "cell_type": "markdown",
   "metadata": {
    "id": "mGXpmlpvdWIH"
   },
   "source": [
    "### Q2C: Performance Measures \n",
    "\n",
    "In class, you had looked into performance measures for the model classification. TP, FP, TN, FN and other metrics of interest. Let us again use the code from class for confusion matrix calculation."
   ]
  },
  {
   "cell_type": "code",
   "execution_count": 42,
   "metadata": {
    "colab": {
     "base_uri": "https://localhost:8080/"
    },
    "id": "xaZ7WAPbdGfi",
    "outputId": "9be0577c-4691-4a3c-a592-156481487348"
   },
   "outputs": [
    {
     "name": "stdout",
     "output_type": "stream",
     "text": [
      "[[16.  0.  0.]\n",
      " [ 0. 16.  1.]\n",
      " [ 0.  0. 17.]]\n"
     ]
    }
   ],
   "source": [
    "# confusion matrix code from class \n",
    "C = np.empty([3,3])\n",
    "for i in range(3):\n",
    "    for j in range(3):\n",
    "        C[i,j] = np.sum(np.logical_and(y_test==i, predict==j))\n",
    "print(C)"
   ]
  },
  {
   "cell_type": "markdown",
   "metadata": {
    "id": "lGcztPPfdl_A"
   },
   "source": [
    "Now that we know how the confusion matrix in form of code. We could see, if there are any in-built functions to do the same?\n",
    "\n",
    "Import `confusion matrix` from `sklearn.metrics` and solve the same problem set. Do you observe any difference? "
   ]
  },
  {
   "cell_type": "code",
   "execution_count": 43,
   "metadata": {
    "colab": {
     "base_uri": "https://localhost:8080/"
    },
    "id": "hWnv_JtPdfE6",
    "outputId": "6db3f75e-817e-483c-8526-6fcba7073155"
   },
   "outputs": [
    {
     "name": "stdout",
     "output_type": "stream",
     "text": [
      "[[16  0  0]\n",
      " [ 0 16  1]\n",
      " [ 0  0 17]]\n",
      "\n",
      "\n",
      "There is no difference in output value.\n"
     ]
    }
   ],
   "source": [
    "# Import confusion matrix from sklearn metrics \n",
    "from sklearn.metrics import confusion_matrix \n",
    "print(confusion_matrix(y_test, predict))\n",
    "\n",
    "print(\"\\n\\nThere is no difference in output value.\")"
   ]
  },
  {
   "cell_type": "markdown",
   "metadata": {
    "id": "kwKPQOWedqil"
   },
   "source": [
    "## Question 3: Performance Measures \n",
    "\n"
   ]
  },
  {
   "cell_type": "markdown",
   "metadata": {
    "id": "8JD1dxdaeLEg"
   },
   "source": [
    "### Q3A: Write your own functions \n",
    "\n",
    "From page 73 of the book, the performance metrics are defined. Create a functions for accuracy, sensitivity, specificity, recall, precision, positive predictive value, and negative predictive value. \n",
    "\n",
    "Refer to either class notes or textbook for these definitions. "
   ]
  },
  {
   "cell_type": "code",
   "execution_count": 44,
   "metadata": {
    "id": "2G1GnKTFdo5l"
   },
   "outputs": [],
   "source": [
    "def accuracy(tp, fp, fn, tn):\n",
    "    \"\"\"(TP+TN)/(TP+TN+FP+FN)\"\"\"\n",
    "    return ((tp+tn)/(tp+fp+fn+tn))\n",
    "\n",
    "\n",
    "def sensitivity(tp, fp, fn, tn):\n",
    "    \"\"\" insert formula to calculate metric \"\"\"\n",
    "    return ((tp)/(tp+fn))\n",
    "\n",
    "\n",
    "def specificity(tp, fp, fn, tn):\n",
    "    \"\"\" insert formula to calculate metric \"\"\"\n",
    "    return ((tn)/(fp+tn))\n",
    "\n",
    "\n",
    "def recall(tp, fp, fn, tn):\n",
    "    \"\"\" insert formula to calculate metric \"\"\"\n",
    "    return ((tp)/(tp+fn))\n",
    "\n",
    "\n",
    "def precision(tp, fp, fn, tn):\n",
    "    \"\"\" insert formula to calculate metric \"\"\"\n",
    "    return ((tp)/(tp+fp))\n",
    "\n",
    "\n",
    "def negPredValue(tp, fp, fn, tn):\n",
    "    \"\"\" insert formula to calculate metric \"\"\"\n",
    "    return ((tn)/(tn+fn))\n",
    "\n",
    "\n",
    "def posPredValue(tp, fp, fn, tn):\n",
    "    \"\"\" insert formula to calculate metric \"\"\"\n",
    "    return ((tp)/(tp+fp))\n",
    "\n",
    "\n",
    "def f1_score(tp, fp, fn, tn):\n",
    "    \"\"\" insert formula to calculate metric \"\"\"\n",
    "    p=precision(tp, fp, fn, tn)\n",
    "    r=recall(tp, fp, fn, tn)\n",
    "    return ((2*p*r)/(p+r)) "
   ]
  },
  {
   "cell_type": "markdown",
   "metadata": {
    "id": "fiQ3BAKneDFJ"
   },
   "source": [
    "### Q3B: Test your Performance Functions \n",
    "\n",
    "Test the function above for the binary case as detailed in Page [74] What values does the function return for accuracy, recall, specificity, precision, negPredValue, posPredValue and F1 score."
   ]
  },
  {
   "cell_type": "code",
   "execution_count": 45,
   "metadata": {
    "colab": {
     "base_uri": "https://localhost:8080/"
    },
    "id": "XZVLyoGdd3T_",
    "outputId": "da73bb44-1e20-4c80-b613-424618865596"
   },
   "outputs": [
    {
     "name": "stdout",
     "output_type": "stream",
     "text": [
      "Accuracy:  0.8316425120772947\n",
      "sensitivity:  0.9979271542789458\n",
      "specificity:  0.09567496723460026\n",
      "precision:  0.8300492610837439\n",
      "recall:  0.9979271542789458\n",
      "NegativePredictiveValue:  0.9125\n",
      "PositivePredictiveValue:  0.8300492610837439\n",
      "f1_score: 0.9062794137421004\n",
      "3370.0 73.0 7.0 690.0\n"
     ]
    }
   ],
   "source": [
    "tp=3370.\n",
    "tn=73.\n",
    "fn=7.\n",
    "fp=690.\n",
    "\n",
    "print(\"Accuracy: \", accuracy(tp,fp,fn,tn))\n",
    "print(\"sensitivity: \", sensitivity(tp,fp,fn,tn))\n",
    "print(\"specificity: \", specificity(tp,fp,fn,tn))\n",
    "print(\"precision: \", precision(tp,fp,fn,tn))\n",
    "print(\"recall: \", recall(tp,fp,fn,tn))\n",
    "print(\"NegativePredictiveValue: \", negPredValue(tp,fp,fn,tn))\n",
    "print(\"PositivePredictiveValue: \", posPredValue(tp,fp,fn,tn))\n",
    "print(\"f1_score:\", f1_score(tp,fp,fn,tn))\n",
    "print(tp, tn, fn, fp)"
   ]
  },
  {
   "cell_type": "markdown",
   "metadata": {
    "id": "S9Bx0K_qeSy_"
   },
   "source": [
    "### Q3C: Practice computing performance metrics \n",
    "\n",
    "\n",
    "Work on the following and using the function developed earlier, compute the performance metrices. \n",
    "\n",
    "We have 100 objects: 90 of the positive class, and 10 of the negative class.\n",
    "* A. The supervised learning algorithm correctly classified 45 of the positive class, and 5 of the negative class.\n",
    "* B. The supervised learning algorithm correctly classified 10 of the positive class, and 9 of the negative class.\n",
    "\n",
    "We have 100 objects: 50 of the positive class, and 50 of the negative class.\n",
    "* C. The supervised learning algorithm correctly classified 40 of the positive class, and 10 of the negative class.\n",
    "* D. The supervised learning algorithm correctly classified 40 of the positive class, and 40 of the negative class.\n",
    "\n",
    "\n",
    "What is the computed accuracy, precision, recall and f1 score for the above problem?"
   ]
  },
  {
   "cell_type": "code",
   "execution_count": 46,
   "metadata": {
    "colab": {
     "base_uri": "https://localhost:8080/"
    },
    "id": "-ImaCeeceQkz",
    "outputId": "b73c2489-03df-412a-a213-cf0d1e0ea2d4"
   },
   "outputs": [
    {
     "name": "stdout",
     "output_type": "stream",
     "text": [
      "\n",
      " Output A \n",
      "\n",
      "0.5\n",
      "0.9\n",
      "0.5\n",
      "0.6428571428571429\n",
      "\n",
      " Output B \n",
      "\n",
      "0.19\n",
      "0.9090909090909091\n",
      "0.1111111111111111\n",
      "0.198019801980198\n",
      "\n",
      " Output C \n",
      "\n",
      "0.5\n",
      "0.5\n",
      "0.8\n",
      "0.6153846153846154\n",
      "\n",
      " Output D \n",
      "\n",
      "0.8\n",
      "0.8\n",
      "0.8\n",
      "0.8000000000000002\n"
     ]
    }
   ],
   "source": [
    "# We know that we have 100 objects: 90 of the positive class, and 10 of the negative class.\n",
    "#a) Correctly classified 45 of the positive class, and 5 of the negative class.\n",
    "tp=45\n",
    "tn=5\n",
    "fn=45\n",
    "fp=5\n",
    "print(\"\\n Output A \\n\")\n",
    "print(accuracy(tp,fp,fn,tn))\n",
    "print(precision(tp,fp,fn,tn))\n",
    "print(recall(tp,fp,fn,tn))\n",
    "print(f1_score(tp,fp,fn,tn))\n",
    "\n",
    "\n",
    "# Correctly classified 10 of the positive class, and 9 of the negative class.\n",
    "tp=10\n",
    "tn=9\n",
    "fn=80\n",
    "fp=1\n",
    "print(\"\\n Output B \\n\")\n",
    "print(accuracy(tp,fp,fn,tn))\n",
    "print(precision(tp,fp,fn,tn))\n",
    "print(recall(tp,fp,fn,tn))\n",
    "print(f1_score(tp,fp,fn,tn))\n",
    "\n",
    "\n",
    "# We know that we have 100 objects: 50 of the positive class, and 50 of the negative class.\n",
    "# correctly classified 40 of the positive class, and 10 of the negative class.\n",
    "tp=40\n",
    "tn=10\n",
    "fn=10\n",
    "fp=40\n",
    "print(\"\\n Output C \\n\")\n",
    "print(accuracy(tp,fp,fn,tn))\n",
    "print(precision(tp,fp,fn,tn))\n",
    "print(recall(tp,fp,fn,tn))\n",
    "print(f1_score(tp,fp,fn,tn))\n",
    "\n",
    "# Correctly classifies 40 of the positive class, and 40 of the negative class.\n",
    "#  correctly classified 40 of the positive class, and 40 of the negative class\n",
    "tp=40\n",
    "tn=40\n",
    "fn=10\n",
    "fp=10\n",
    "print(\"\\n Output D \\n\")\n",
    "print(accuracy(tp,fp,fn,tn))\n",
    "print(precision(tp,fp,fn,tn))\n",
    "print(recall(tp,fp,fn,tn))\n",
    "print(f1_score(tp,fp,fn,tn))\n"
   ]
  },
  {
   "cell_type": "markdown",
   "metadata": {
    "id": "C7RrbdpdefPW"
   },
   "source": [
    "### Q3D: Use `scikit-learn` performance measure methods \n",
    "\n",
    "Now that we have looked into performance metric, we can use the inbuilt function to measure the score or values. First, let's look at the classification report."
   ]
  },
  {
   "cell_type": "code",
   "execution_count": 47,
   "metadata": {
    "colab": {
     "base_uri": "https://localhost:8080/"
    },
    "id": "TOWxCVypedR9",
    "outputId": "ed689638-6134-4f2e-9bb6-5215768e2e8e"
   },
   "outputs": [
    {
     "name": "stdout",
     "output_type": "stream",
     "text": [
      "              precision    recall  f1-score   support\n",
      "\n",
      "           0       1.00      0.87      0.93        55\n",
      "           1       0.93      1.00      0.96        88\n",
      "\n",
      "    accuracy                           0.95       143\n",
      "   macro avg       0.96      0.94      0.95       143\n",
      "weighted avg       0.95      0.95      0.95       143\n",
      "\n",
      "precision:  [1.         0.92631579]\n",
      "recall:     [0.87272727 1.        ]\n",
      "F1 score:   [0.93203883 0.96174863]\n"
     ]
    }
   ],
   "source": [
    "\"\"\" \n",
    "Lets try to use classification report from metrics module. \n",
    "Also individual performance metrics we coded are \n",
    "also available as functions in sklearn metrics\n",
    "\"\"\"\n",
    "\n",
    "# Model for Cancer\n",
    "# remember names for data \n",
    "#  Xc_train, yc_train, ...  \n",
    "#  cancer.target_names\n",
    "knnC = neighbors.KNeighborsClassifier(n_neighbors = 5)\n",
    "# train the classifier using the training data, use fit()\n",
    "knnC.fit(Xc_train, yc_train)\n",
    "# compute the prediction of the test set using predict()\n",
    "predictC = knnC.predict(Xc_test)\n",
    "\n",
    "# import classification report and F1 score\n",
    "from sklearn.metrics import classification_report, f1_score\n",
    "\n",
    "print(classification_report(yc_test,predictC))\n",
    "print (\"precision: \", metrics.precision_score(yc_test,predictC,average=None))\n",
    "print (\"recall:    \", metrics.recall_score(yc_test,predictC,average=None))\n",
    "print (\"F1 score:  \", f1_score(yc_test,predictC,average=None))"
   ]
  },
  {
   "cell_type": "code",
   "execution_count": 48,
   "metadata": {
    "colab": {
     "base_uri": "https://localhost:8080/"
    },
    "id": "qRIjvY7xen_g",
    "outputId": "b47d8afc-e537-42c7-dfb8-7767c47b42f4"
   },
   "outputs": [
    {
     "name": "stdout",
     "output_type": "stream",
     "text": [
      "              precision    recall  f1-score   support\n",
      "\n",
      "           0       1.00      1.00      1.00        16\n",
      "           1       1.00      0.94      0.97        17\n",
      "           2       0.94      1.00      0.97        17\n",
      "\n",
      "    accuracy                           0.98        50\n",
      "   macro avg       0.98      0.98      0.98        50\n",
      "weighted avg       0.98      0.98      0.98        50\n",
      "\n",
      "precision:  [1.         1.         0.94444444]\n",
      "recall:     [1.         0.94117647 1.        ]\n",
      "F1 score:   [1.         0.96969697 0.97142857]\n"
     ]
    }
   ],
   "source": [
    "# Model for Iris\n",
    "knnI = neighbors.KNeighborsClassifier(n_neighbors = 5)\n",
    "# train the classifier using the training data, use fit()\n",
    "knnI.fit(Xi_train, yi_train)\n",
    "# compute the prediction of the test set using predict()\n",
    "predictI = knnI.predict(Xi_test)\n",
    "\n",
    "# import classification report and F1 score\n",
    "from sklearn.metrics import classification_report, f1_score\n",
    "\n",
    "print(classification_report(yi_test,predictI))\n",
    "print (\"precision: \", metrics.precision_score(yi_test,predictI,average=None))\n",
    "print (\"recall:    \", metrics.recall_score(yi_test,predictI,average=None))\n",
    "print (\"F1 score:  \", f1_score(yi_test,predictI,average=None))\n"
   ]
  },
  {
   "cell_type": "markdown",
   "metadata": {
    "id": "opnSwAk4es7V"
   },
   "source": [
    "### Q3E: Cross Validation \n",
    "\n",
    "Import `cross_val_score` from `model_selection` library of sklearn. Learn more from the link given below:\n",
    "\n",
    "http://scikit-learn.org/stable/modules/generated/sklearn.model_selection.cross_val_score.html\n",
    "\n",
    "Also in the below code, using a `for`-loop to check what is the impact of changing the number of neighbors in Knn for two different weights. Measure the performance using cross_val_score for test samples and scoring for accuracy. \n",
    "\n",
    "*Note:* The no. of neightbors should be less than the test samples. Take either 20 or 25 or 30 \n",
    "\n",
    "*Hint:* Use two for-loops, first loop should take care of weights and second loop needs to take care of the no. of neighbors. "
   ]
  },
  {
   "cell_type": "code",
   "execution_count": 49,
   "metadata": {
    "colab": {
     "base_uri": "https://localhost:8080/",
     "height": 758
    },
    "id": "wZtVNIryeqip",
    "outputId": "b5c08f0c-d9d9-4316-8755-e6ed0f239eb3"
   },
   "outputs": [
    {
     "data": {
      "text/plain": [
       "<Figure size 432x288 with 0 Axes>"
      ]
     },
     "metadata": {},
     "output_type": "display_data"
    },
    {
     "data": {
      "image/png": "[encoded data removed]",
      "text/plain": [
       "<Figure size 720x360 with 1 Axes>"
      ]
     },
     "metadata": {
      "needs_background": "light"
     },
     "output_type": "display_data"
    },
    {
     "data": {
      "text/plain": [
       "<Figure size 432x288 with 0 Axes>"
      ]
     },
     "metadata": {},
     "output_type": "display_data"
    },
    {
     "data": {
      "image/png": "[encoded data removed]",
      "text/plain": [
       "<Figure size 720x360 with 1 Axes>"
      ]
     },
     "metadata": {
      "needs_background": "light"
     },
     "output_type": "display_data"
    }
   ],
   "source": [
    "# import the required library\n",
    "from sklearn.model_selection import cross_val_score\n",
    "\n",
    "# Create for loop for weights first\n",
    "for weights in ['uniform', 'distance']:\n",
    "    k_range = range(1,21)\n",
    "    k_score=[]\n",
    "    # create for loop for neighbors\n",
    "    for k in k_range:\n",
    "        # knn code here\n",
    "        knn = neighbors.KNeighborsClassifier(n_neighbors = k,weights=weights)\n",
    "        \n",
    "        # computing the score.\n",
    "        scores = cross_val_score(knn, Xi, yi, cv = 5, scoring ='accuracy')\n",
    "        # print(scores)\n",
    "\n",
    "        # append the score to variable\n",
    "        k_score.append(scores.mean())\n",
    "\n",
    "        \n",
    "    # plot inside first loop to plot for each weights    \n",
    "    plt.figure()\n",
    "    fig = plt.figure(figsize=(10, 5))\n",
    "    \n",
    "    # Use line plot and observe\n",
    "    plt.plot(k_range, k_score)\n",
    "    plt.xlabel(' Value of K for knn')\n",
    "    plt.ylabel('Cross-Validated Accuracy')\n",
    "    plt.suptitle('%s' %(weights))"
   ]
  },
  {
   "cell_type": "markdown",
   "metadata": {
    "id": "2ftVJPuzsY0U"
   },
   "source": [
    "### Q3F: Grid Search\n",
    "\n",
    "The above code is meant to help us see which hyperparameters may give the best model.  Scikit-learn provides automated tools to do this in the grid search module.  \n",
    "\n",
    "Try to replicate the two-dimensional grid search from above. Use Scikit-Learn's `GridSearchCV` meta-estimator. "
   ]
  },
  {
   "cell_type": "code",
   "execution_count": 50,
   "metadata": {
    "colab": {
     "base_uri": "https://localhost:8080/"
    },
    "id": "CWpC_xPawRev",
    "outputId": "a5651106-99a0-4687-a4fa-2f832bcab73e"
   },
   "outputs": [
    {
     "name": "stdout",
     "output_type": "stream",
     "text": [
      "{'n_neighbors': 10, 'weights': 'distance'}\n"
     ]
    },
    {
     "data": {
      "text/plain": [
       "0.9866666666666667"
      ]
     },
     "execution_count": 50,
     "metadata": {},
     "output_type": "execute_result"
    }
   ],
   "source": [
    "from sklearn.model_selection import GridSearchCV\n",
    "\n",
    "param_grid = {\"n_neighbors\":range(1,21), \"weights\":['uniform', 'distance']}\n",
    "\n",
    "knn = neighbors.KNeighborsClassifier()\n",
    "\n",
    "grid = GridSearchCV(estimator=knn, param_grid=param_grid)\n",
    "\n",
    "grid.fit(Xi, yi)\n",
    "\n",
    "print(grid.best_params_)\n",
    "\n",
    "grid.best_score_"
   ]
  }
 ],
 "metadata": {
  "colab": {
   "collapsed_sections": [],
   "name": "lab9_week9.ipynb",
   "provenance": [],
   "toc_visible": true
  },
  "kernelspec": {
   "display_name": "Python 3",
   "language": "python",
   "name": "python3"
  },
  "language_info": {
   "codemirror_mode": {
    "name": "ipython",
    "version": 3
   },
   "file_extension": ".py",
   "mimetype": "text/x-python",
   "name": "python",
   "nbconvert_exporter": "python",
   "pygments_lexer": "ipython3",
   "version": "3.8.5"
  },
  "latex_envs": {
   "LaTeX_envs_menu_present": true,
   "autoclose": false,
   "autocomplete": true,
   "bibliofile": "biblio.bib",
   "cite_by": "apalike",
   "current_citInitial": 1,
   "eqLabelWithNumbers": true,
   "eqNumInitial": 1,
   "hotkeys": {
    "equation": "Ctrl-E",
    "itemize": "Ctrl-I"
   },
   "labels_anchors": false,
   "latex_user_defs": false,
   "report_style_numbering": false,
   "user_envs_cfg": false
  },
  "toc": {
   "base_numbering": 1,
   "nav_menu": {},
   "number_sections": true,
   "sideBar": true,
   "skip_h1_title": false,
   "title_cell": "Table of Contents",
   "title_sidebar": "Contents",
   "toc_cell": false,
   "toc_position": {},
   "toc_section_display": true,
   "toc_window_display": false
  }
 },
 "nbformat": 4,
 "nbformat_minor": 1
}
